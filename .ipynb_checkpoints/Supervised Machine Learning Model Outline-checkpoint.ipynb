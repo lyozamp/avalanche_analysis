{
 "cells": [
  {
   "cell_type": "code",
   "execution_count": null,
   "id": "0f2afe34",
   "metadata": {},
   "outputs": [],
   "source": [
    "#import dependencies\n",
    "import matplotlib.pyplot as plt\n",
    "import pandas as pd"
   ]
  },
  {
   "cell_type": "code",
   "execution_count": null,
   "id": "49945f34",
   "metadata": {},
   "outputs": [],
   "source": [
    "#import data"
   ]
  },
  {
   "cell_type": "code",
   "execution_count": null,
   "id": "b078400b",
   "metadata": {},
   "outputs": [],
   "source": [
    "#clean data (encode labels, drop null values, etc)"
   ]
  },
  {
   "cell_type": "code",
   "execution_count": null,
   "id": "81ac3c31",
   "metadata": {},
   "outputs": [],
   "source": [
    "#create feature and target variables (x and y)"
   ]
  },
  {
   "cell_type": "code",
   "execution_count": null,
   "id": "40e37f02",
   "metadata": {},
   "outputs": [],
   "source": [
    "#split data into train and test sets\n",
    "from sklearn.model_selection import train_test_split\n",
    "X_train, X_test, y_train, y_test = train_test_split(X, y, random_state=1)"
   ]
  },
  {
   "cell_type": "code",
   "execution_count": null,
   "id": "62b53297",
   "metadata": {},
   "outputs": [],
   "source": [
    "#create logistic regression model\n",
    "from sklearn.linear_model import LogisticRegression\n",
    "classifier = LogisticRegression(solver='lbfgs', random_state=1)"
   ]
  },
  {
   "cell_type": "code",
   "execution_count": null,
   "id": "219d30e5",
   "metadata": {},
   "outputs": [],
   "source": [
    "#train logistic regression model\n",
    "classifier.fit(X_train, y_train)"
   ]
  },
  {
   "cell_type": "code",
   "execution_count": null,
   "id": "4ba13a02",
   "metadata": {},
   "outputs": [],
   "source": [
    "#create predictions\n",
    "y_pred = classifier.predict(X_test)"
   ]
  },
  {
   "cell_type": "code",
   "execution_count": null,
   "id": "8e9f569f",
   "metadata": {},
   "outputs": [],
   "source": [
    "#display the confusion matrix\n",
    "from sklearn.metrics import confusion_matrix\n",
    "y_pred = model.predict(X_test)\n",
    "confusion_matrix(y_test, y_pred)"
   ]
  },
  {
   "cell_type": "code",
   "execution_count": null,
   "id": "49807e79",
   "metadata": {},
   "outputs": [],
   "source": [
    "#classification report\n",
    "from sklearn.metrics import classification_report\n",
    "report = classification_report(y_test, y_pred)\n",
    "print(report)"
   ]
  },
  {
   "cell_type": "code",
   "execution_count": null,
   "id": "e806e356",
   "metadata": {},
   "outputs": [],
   "source": [
    "#get accuracy score\n",
    "from sklearn.metrics import accuracy_score\n",
    "print(accuracy_score(y_test, y_pred))"
   ]
  }
 ],
 "metadata": {
  "kernelspec": {
   "display_name": "PythonData",
   "language": "python",
   "name": "pythondata"
  },
  "language_info": {
   "codemirror_mode": {
    "name": "ipython",
    "version": 3
   },
   "file_extension": ".py",
   "mimetype": "text/x-python",
   "name": "python",
   "nbconvert_exporter": "python",
   "pygments_lexer": "ipython3",
   "version": "3.7.6"
  }
 },
 "nbformat": 4,
 "nbformat_minor": 5
}
